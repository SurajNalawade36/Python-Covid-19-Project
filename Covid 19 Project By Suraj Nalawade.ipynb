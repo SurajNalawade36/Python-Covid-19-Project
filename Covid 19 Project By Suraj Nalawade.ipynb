{
 "cells": [
  {
   "cell_type": "code",
   "execution_count": 1,
   "id": "294562fe-bc66-4069-bf00-ea5e61ebe623",
   "metadata": {},
   "outputs": [],
   "source": [
    "import pandas as pd"
   ]
  },
  {
   "cell_type": "code",
   "execution_count": 2,
   "id": "07e2f29a-9aa9-484a-a2f7-ca6ef2c112e7",
   "metadata": {},
   "outputs": [],
   "source": [
    "import seaborn as sns"
   ]
  },
  {
   "cell_type": "code",
   "execution_count": 3,
   "id": "40cfe286-4095-41da-87e4-122087580a9f",
   "metadata": {},
   "outputs": [],
   "source": [
    "from matplotlib.pyplot import show"
   ]
  },
  {
   "cell_type": "code",
   "execution_count": 4,
   "id": "e8faeef5-3b79-46cc-8d03-361a71fd2b98",
   "metadata": {},
   "outputs": [],
   "source": [
    "import matplotlib.pyplot as plt"
   ]
  },
  {
   "cell_type": "code",
   "execution_count": 5,
   "id": "1720e53a-7f2c-4c20-ac0e-e5bfa769ba13",
   "metadata": {},
   "outputs": [],
   "source": [
    "a=pd.read_csv(\"C:/Users/suraj/Documents/Python Classes/PV22/covid_19_data.csv\")"
   ]
  },
  {
   "cell_type": "code",
   "execution_count": 6,
   "id": "2edb0967-31af-4b8d-9920-6c703eb6d6b4",
   "metadata": {},
   "outputs": [
    {
     "name": "stderr",
     "output_type": "stream",
     "text": [
      "C:\\Users\\suraj\\AppData\\Local\\Temp\\ipykernel_15528\\3562668113.py:1: FutureWarning: DataFrame.fillna with 'method' is deprecated and will raise in a future version. Use obj.ffill() or obj.bfill() instead.\n",
      "  a.fillna(method='pad',inplace=True)\n"
     ]
    }
   ],
   "source": [
    "a.fillna(method='pad',inplace=True)"
   ]
  },
  {
   "cell_type": "code",
   "execution_count": 7,
   "id": "9451951b-c84b-435b-a17c-d69f3a521542",
   "metadata": {},
   "outputs": [
    {
     "data": {
      "text/plain": [
       "SNo                0\n",
       "ObservationDate    0\n",
       "Province/State     0\n",
       "Country/Region     0\n",
       "Last Update        0\n",
       "Confirmed          0\n",
       "Deaths             0\n",
       "Recovered          0\n",
       "dtype: int64"
      ]
     },
     "execution_count": 7,
     "metadata": {},
     "output_type": "execute_result"
    }
   ],
   "source": [
    "a.isnull().sum()"
   ]
  },
  {
   "cell_type": "code",
   "execution_count": 9,
   "id": "7d9387bd-8168-49a9-81cc-044139b7bbea",
   "metadata": {},
   "outputs": [
    {
     "data": {
      "text/plain": [
       "26252051758.0"
      ]
     },
     "execution_count": 9,
     "metadata": {},
     "output_type": "execute_result"
    }
   ],
   "source": [
    "# What is the total number of confirmed cases worldwide\n",
    "a['Confirmed'].sum()"
   ]
  },
  {
   "cell_type": "code",
   "execution_count": 10,
   "id": "bb25b113-db64-4b9c-9e3b-63d0bc56a028",
   "metadata": {},
   "outputs": [
    {
     "data": {
      "text/plain": [
       "624013017.0"
      ]
     },
     "execution_count": 10,
     "metadata": {},
     "output_type": "execute_result"
    }
   ],
   "source": [
    "# How many deaths have been reported globally\n",
    "a['Deaths'].sum()"
   ]
  },
  {
   "cell_type": "code",
   "execution_count": 11,
   "id": "a7e8dbf1-361f-4634-a964-f40e2859d63a",
   "metadata": {},
   "outputs": [
    {
     "data": {
      "text/plain": [
       "15450237912.0"
      ]
     },
     "execution_count": 11,
     "metadata": {},
     "output_type": "execute_result"
    }
   ],
   "source": [
    "# What is the total number of recovered cases worldwide\n",
    "a['Recovered'].sum()"
   ]
  },
  {
   "cell_type": "code",
   "execution_count": 12,
   "id": "c41d5edb-8bba-4dc0-8954-edd610ec23b1",
   "metadata": {},
   "outputs": [
    {
     "data": {
      "text/plain": [
       "229"
      ]
     },
     "execution_count": 12,
     "metadata": {},
     "output_type": "execute_result"
    }
   ],
   "source": [
    "# How many countries/regions are represented in the dataset\n",
    "a['Country/Region'].nunique()"
   ]
  },
  {
   "cell_type": "code",
   "execution_count": 13,
   "id": "2eeeb4e1-ec90-4108-9141-0887eabee313",
   "metadata": {},
   "outputs": [
    {
     "data": {
      "text/plain": [
       "Text(0, 0.5, 'Number of Confirmed Cases')"
      ]
     },
     "execution_count": 13,
     "metadata": {},
     "output_type": "execute_result"
    },
    {
     "data": {
      "image/png": "[encoded data removed]",
      "text/plain": [
       "<Figure size 640x480 with 1 Axes>"
      ]
     },
     "metadata": {},
     "output_type": "display_data"
    }
   ],
   "source": [
    "# What is the trend of confirmed cases over time globally\n",
    "a['ObservationDate'] = pd.to_datetime(a['ObservationDate'])\n",
    "global_trend = a.groupby('ObservationDate')['Confirmed'].sum().reset_index()\n",
    "plt.plot(global_trend['ObservationDate'], global_trend['Confirmed'])\n",
    "plt.xlabel('Date', fontsize=10)\n",
    "plt.ylabel('Number of Confirmed Cases', fontsize=10)"
   ]
  },
  {
   "cell_type": "code",
   "execution_count": 14,
   "id": "b69c2650-eeca-47b2-acdf-36008808d65d",
   "metadata": {},
   "outputs": [
    {
     "data": {
      "text/plain": [
       "Province/State    Zuid-Holland\n",
       "Confirmed         7745979414.0\n",
       "Name: 735, dtype: object"
      ]
     },
     "execution_count": 14,
     "metadata": {},
     "output_type": "execute_result"
    }
   ],
   "source": [
    "# Which province/state has reported the highest number of confirmed cases\n",
    "b = a.groupby('Province/State')['Confirmed'].sum().reset_index()\n",
    "highest = b.loc[b['Confirmed'].idxmax()]\n",
    "highest"
   ]
  },
  {
   "cell_type": "code",
   "execution_count": 15,
   "id": "e7d0915d-84f9-46ff-9831-564a481914cc",
   "metadata": {},
   "outputs": [
    {
     "data": {
      "text/plain": [
       "Country/Region             US\n",
       "Deaths            123303762.0\n",
       "Name: 214, dtype: object"
      ]
     },
     "execution_count": 15,
     "metadata": {},
     "output_type": "execute_result"
    }
   ],
   "source": [
    "# Which country/region has the highest number of deaths\n",
    "b = a.groupby('Country/Region')['Deaths'].sum().reset_index()\n",
    "highest_deaths = b.loc[b['Deaths'].idxmax()]\n",
    "highest_deaths"
   ]
  },
  {
   "cell_type": "code",
   "execution_count": 16,
   "id": "f59e3f77-838d-4b86-88a7-4cd727f1f8b5",
   "metadata": {},
   "outputs": [
    {
     "data": {
      "text/html": [
       "<div>\n",
       "<style scoped>\n",
       "    .dataframe tbody tr th:only-of-type {\n",
       "        vertical-align: middle;\n",
       "    }\n",
       "\n",
       "    .dataframe tbody tr th {\n",
       "        vertical-align: top;\n",
       "    }\n",
       "\n",
       "    .dataframe thead th {\n",
       "        text-align: right;\n",
       "    }\n",
       "</style>\n",
       "<table border=\"1\" class=\"dataframe\">\n",
       "  <thead>\n",
       "    <tr style=\"text-align: right;\">\n",
       "      <th></th>\n",
       "      <th>Province/State</th>\n",
       "      <th>Confirmed</th>\n",
       "    </tr>\n",
       "  </thead>\n",
       "  <tbody>\n",
       "    <tr>\n",
       "      <th>735</th>\n",
       "      <td>Zuid-Holland</td>\n",
       "      <td>7.745979e+09</td>\n",
       "    </tr>\n",
       "    <tr>\n",
       "      <th>88</th>\n",
       "      <td>California</td>\n",
       "      <td>6.969008e+08</td>\n",
       "    </tr>\n",
       "    <tr>\n",
       "      <th>365</th>\n",
       "      <td>Maharashtra</td>\n",
       "      <td>6.811869e+08</td>\n",
       "    </tr>\n",
       "    <tr>\n",
       "      <th>171</th>\n",
       "      <td>England</td>\n",
       "      <td>6.662275e+08</td>\n",
       "    </tr>\n",
       "    <tr>\n",
       "      <th>630</th>\n",
       "      <td>Texas</td>\n",
       "      <td>5.520409e+08</td>\n",
       "    </tr>\n",
       "    <tr>\n",
       "      <th>...</th>\n",
       "      <td>...</td>\n",
       "      <td>...</td>\n",
       "    </tr>\n",
       "    <tr>\n",
       "      <th>278</th>\n",
       "      <td>Jervis Bay Territory</td>\n",
       "      <td>0.000000e+00</td>\n",
       "    </tr>\n",
       "    <tr>\n",
       "      <th>526</th>\n",
       "      <td>Recovered</td>\n",
       "      <td>0.000000e+00</td>\n",
       "    </tr>\n",
       "    <tr>\n",
       "      <th>173</th>\n",
       "      <td>External territories</td>\n",
       "      <td>0.000000e+00</td>\n",
       "    </tr>\n",
       "    <tr>\n",
       "      <th>404</th>\n",
       "      <td>Montgomery County, TX</td>\n",
       "      <td>0.000000e+00</td>\n",
       "    </tr>\n",
       "    <tr>\n",
       "      <th>17</th>\n",
       "      <td>American Samoa</td>\n",
       "      <td>0.000000e+00</td>\n",
       "    </tr>\n",
       "  </tbody>\n",
       "</table>\n",
       "<p>736 rows × 2 columns</p>\n",
       "</div>"
      ],
      "text/plain": [
       "            Province/State     Confirmed\n",
       "735           Zuid-Holland  7.745979e+09\n",
       "88              California  6.969008e+08\n",
       "365            Maharashtra  6.811869e+08\n",
       "171                England  6.662275e+08\n",
       "630                  Texas  5.520409e+08\n",
       "..                     ...           ...\n",
       "278   Jervis Bay Territory  0.000000e+00\n",
       "526              Recovered  0.000000e+00\n",
       "173   External territories  0.000000e+00\n",
       "404  Montgomery County, TX  0.000000e+00\n",
       "17          American Samoa  0.000000e+00\n",
       "\n",
       "[736 rows x 2 columns]"
      ]
     },
     "execution_count": 16,
     "metadata": {},
     "output_type": "execute_result"
    }
   ],
   "source": [
    "# How does the number of confirmed cases vary across different provinces/states\n",
    "b = a.groupby('Province/State')['Confirmed'].sum().reset_index()\n",
    "b = b.sort_values(by='Confirmed', ascending=False)\n",
    "b"
   ]
  },
  {
   "cell_type": "code",
   "execution_count": 17,
   "id": "bfb386c7-3ddf-4e7f-a138-e20d9b29947b",
   "metadata": {},
   "outputs": [
    {
     "data": {
      "text/plain": [
       "Text(0, 0.5, 'Number Of Deaths')"
      ]
     },
     "execution_count": 17,
     "metadata": {},
     "output_type": "execute_result"
    },
    {
     "data": {
      "image/png": "[encoded data removed]",
      "text/plain": [
       "<Figure size 640x480 with 1 Axes>"
      ]
     },
     "metadata": {},
     "output_type": "display_data"
    }
   ],
   "source": [
    "# What is the trend of deaths over time globally\n",
    "a['ObservationDate'] = pd.to_datetime(a['ObservationDate'])\n",
    "global_trend = a.groupby('ObservationDate')['Deaths'].sum().reset_index()\n",
    "plt.plot(global_trend['ObservationDate'], global_trend['Deaths'])\n",
    "plt.xlabel('Date', fontsize=10)\n",
    "plt.ylabel('Number Of Deaths', fontsize=10)"
   ]
  },
  {
   "cell_type": "code",
   "execution_count": 18,
   "id": "0bcd606a-1bdb-437c-a63d-8ec68fe81764",
   "metadata": {},
   "outputs": [
    {
     "data": {
      "text/plain": [
       "Country/Region           India\n",
       "Recovered         2900589824.0\n",
       "Name: 96, dtype: object"
      ]
     },
     "execution_count": 18,
     "metadata": {},
     "output_type": "execute_result"
    }
   ],
   "source": [
    "# Which country/region has the highest number of recovered cases\n",
    "b = a.groupby('Country/Region')['Recovered'].sum().reset_index()\n",
    "highest_recovered = b.loc[b['Recovered'].idxmax()]\n",
    "highest_recovered"
   ]
  },
  {
   "cell_type": "code",
   "execution_count": 19,
   "id": "8d2ebd54-5b6e-43f6-a7c8-5f6ce281c55c",
   "metadata": {},
   "outputs": [
    {
     "data": {
      "text/html": [
       "<div>\n",
       "<style scoped>\n",
       "    .dataframe tbody tr th:only-of-type {\n",
       "        vertical-align: middle;\n",
       "    }\n",
       "\n",
       "    .dataframe tbody tr th {\n",
       "        vertical-align: top;\n",
       "    }\n",
       "\n",
       "    .dataframe thead th {\n",
       "        text-align: right;\n",
       "    }\n",
       "</style>\n",
       "<table border=\"1\" class=\"dataframe\">\n",
       "  <thead>\n",
       "    <tr style=\"text-align: right;\">\n",
       "      <th></th>\n",
       "      <th>Country/Region</th>\n",
       "      <th>Recovered</th>\n",
       "    </tr>\n",
       "  </thead>\n",
       "  <tbody>\n",
       "    <tr>\n",
       "      <th>96</th>\n",
       "      <td>India</td>\n",
       "      <td>2.900590e+09</td>\n",
       "    </tr>\n",
       "    <tr>\n",
       "      <th>27</th>\n",
       "      <td>Brazil</td>\n",
       "      <td>2.313677e+09</td>\n",
       "    </tr>\n",
       "    <tr>\n",
       "      <th>172</th>\n",
       "      <td>Russia</td>\n",
       "      <td>7.907057e+08</td>\n",
       "    </tr>\n",
       "    <tr>\n",
       "      <th>212</th>\n",
       "      <td>Turkey</td>\n",
       "      <td>5.641706e+08</td>\n",
       "    </tr>\n",
       "    <tr>\n",
       "      <th>214</th>\n",
       "      <td>US</td>\n",
       "      <td>5.033710e+08</td>\n",
       "    </tr>\n",
       "    <tr>\n",
       "      <th>...</th>\n",
       "      <td>...</td>\n",
       "      <td>...</td>\n",
       "    </tr>\n",
       "    <tr>\n",
       "      <th>166</th>\n",
       "      <td>Puerto Rico</td>\n",
       "      <td>0.000000e+00</td>\n",
       "    </tr>\n",
       "    <tr>\n",
       "      <th>168</th>\n",
       "      <td>Republic of Ireland</td>\n",
       "      <td>0.000000e+00</td>\n",
       "    </tr>\n",
       "    <tr>\n",
       "      <th>169</th>\n",
       "      <td>Republic of the Congo</td>\n",
       "      <td>0.000000e+00</td>\n",
       "    </tr>\n",
       "    <tr>\n",
       "      <th>170</th>\n",
       "      <td>Reunion</td>\n",
       "      <td>0.000000e+00</td>\n",
       "    </tr>\n",
       "    <tr>\n",
       "      <th>228</th>\n",
       "      <td>occupied Palestinian territory</td>\n",
       "      <td>0.000000e+00</td>\n",
       "    </tr>\n",
       "  </tbody>\n",
       "</table>\n",
       "<p>229 rows × 2 columns</p>\n",
       "</div>"
      ],
      "text/plain": [
       "                     Country/Region     Recovered\n",
       "96                            India  2.900590e+09\n",
       "27                           Brazil  2.313677e+09\n",
       "172                          Russia  7.907057e+08\n",
       "212                          Turkey  5.641706e+08\n",
       "214                              US  5.033710e+08\n",
       "..                              ...           ...\n",
       "166                     Puerto Rico  0.000000e+00\n",
       "168             Republic of Ireland  0.000000e+00\n",
       "169           Republic of the Congo  0.000000e+00\n",
       "170                         Reunion  0.000000e+00\n",
       "228  occupied Palestinian territory  0.000000e+00\n",
       "\n",
       "[229 rows x 2 columns]"
      ]
     },
     "execution_count": 19,
     "metadata": {},
     "output_type": "execute_result"
    }
   ],
   "source": [
    "# How does the number of recovered cases vary across different countries/regions\n",
    "b = a.groupby('Country/Region')['Recovered'].sum().reset_index()\n",
    "b = b.sort_values(by='Recovered', ascending=False)\n",
    "b"
   ]
  },
  {
   "cell_type": "code",
   "execution_count": 20,
   "id": "4fc5504f-32cd-436d-ab31-aa6b8c9690e1",
   "metadata": {},
   "outputs": [
    {
     "data": {
      "text/plain": [
       "<Axes: >"
      ]
     },
     "execution_count": 20,
     "metadata": {},
     "output_type": "execute_result"
    },
    {
     "data": {
      "image/png": "[encoded data removed]",
      "text/plain": [
       "<Figure size 640x480 with 2 Axes>"
      ]
     },
     "metadata": {},
     "output_type": "display_data"
    }
   ],
   "source": [
    "# Is there a correlation between the number of confirmed cases and deaths\n",
    "a[['Confirmed','Deaths']].corr()\n",
    "sns.heatmap(a[['Confirmed','Deaths']].corr())"
   ]
  },
  {
   "cell_type": "code",
   "execution_count": 21,
   "id": "e62066e1-d1c6-4e03-918a-b6fbbf26f552",
   "metadata": {},
   "outputs": [
    {
     "data": {
      "text/plain": [
       "<Axes: >"
      ]
     },
     "execution_count": 21,
     "metadata": {},
     "output_type": "execute_result"
    },
    {
     "data": {
      "image/png": "[encoded data removed]",
      "text/plain": [
       "<Figure size 640x480 with 2 Axes>"
      ]
     },
     "metadata": {},
     "output_type": "display_data"
    }
   ],
   "source": [
    "# Is there a correlation between the number of confirmed cases and recovered cases\n",
    "a[['Confirmed','Recovered']].corr()\n",
    "sns.heatmap(a[['Confirmed','Recovered']].corr())"
   ]
  },
  {
   "cell_type": "code",
   "execution_count": 91,
   "id": "28a02024-eac1-426b-b895-7e35dd970b2a",
   "metadata": {},
   "outputs": [
    {
     "data": {
      "text/plain": [
       "<Axes: xlabel='Confirmed', ylabel='Count'>"
      ]
     },
     "execution_count": 91,
     "metadata": {},
     "output_type": "execute_result"
    },
    {
     "data": {
      "image/png": "[encoded data removed]",
      "text/plain": [
       "<Figure size 640x480 with 1 Axes>"
      ]
     },
     "metadata": {},
     "output_type": "display_data"
    }
   ],
   "source": [
    "# What is the distribution of confirmed cases by country/region\n",
    "country_cases = a.groupby('Country/Region')['Confirmed'].sum().reset_index()\n",
    "sns.histplot(data=country_cases, x='Confirmed', bins=5, kde=True)"
   ]
  },
  {
   "cell_type": "code",
   "execution_count": 81,
   "id": "61ab2da5-2edd-4b3c-97bd-3a3f25281576",
   "metadata": {},
   "outputs": [
    {
     "data": {
      "text/html": [
       "<div>\n",
       "<style scoped>\n",
       "    .dataframe tbody tr th:only-of-type {\n",
       "        vertical-align: middle;\n",
       "    }\n",
       "\n",
       "    .dataframe tbody tr th {\n",
       "        vertical-align: top;\n",
       "    }\n",
       "\n",
       "    .dataframe thead th {\n",
       "        text-align: right;\n",
       "    }\n",
       "</style>\n",
       "<table border=\"1\" class=\"dataframe\">\n",
       "  <thead>\n",
       "    <tr style=\"text-align: right;\">\n",
       "      <th></th>\n",
       "      <th>Country/Region</th>\n",
       "      <th>Confirmed</th>\n",
       "      <th>Deaths</th>\n",
       "      <th>Mortality Rate (%)</th>\n",
       "    </tr>\n",
       "  </thead>\n",
       "  <tbody>\n",
       "    <tr>\n",
       "      <th>225</th>\n",
       "      <td>Yemen</td>\n",
       "      <td>962066.0</td>\n",
       "      <td>237613.0</td>\n",
       "      <td>24.698202</td>\n",
       "    </tr>\n",
       "    <tr>\n",
       "      <th>123</th>\n",
       "      <td>MS Zaandam</td>\n",
       "      <td>3824.0</td>\n",
       "      <td>848.0</td>\n",
       "      <td>22.175732</td>\n",
       "    </tr>\n",
       "    <tr>\n",
       "      <th>220</th>\n",
       "      <td>Vanuatu</td>\n",
       "      <td>406.0</td>\n",
       "      <td>39.0</td>\n",
       "      <td>9.605911</td>\n",
       "    </tr>\n",
       "    <tr>\n",
       "      <th>137</th>\n",
       "      <td>Mexico</td>\n",
       "      <td>460463678.0</td>\n",
       "      <td>43005509.0</td>\n",
       "      <td>9.339609</td>\n",
       "    </tr>\n",
       "    <tr>\n",
       "      <th>197</th>\n",
       "      <td>Sudan</td>\n",
       "      <td>7632455.0</td>\n",
       "      <td>488709.0</td>\n",
       "      <td>6.403038</td>\n",
       "    </tr>\n",
       "    <tr>\n",
       "      <th>...</th>\n",
       "      <td>...</td>\n",
       "      <td>...</td>\n",
       "      <td>...</td>\n",
       "      <td>...</td>\n",
       "    </tr>\n",
       "    <tr>\n",
       "      <th>143</th>\n",
       "      <td>Morocco</td>\n",
       "      <td>104557135.0</td>\n",
       "      <td>1823724.0</td>\n",
       "      <td>1.744237</td>\n",
       "    </tr>\n",
       "    <tr>\n",
       "      <th>35</th>\n",
       "      <td>Cameroon</td>\n",
       "      <td>11346589.0</td>\n",
       "      <td>197906.0</td>\n",
       "      <td>1.744189</td>\n",
       "    </tr>\n",
       "    <tr>\n",
       "      <th>109</th>\n",
       "      <td>Kenya</td>\n",
       "      <td>27728648.0</td>\n",
       "      <td>482736.0</td>\n",
       "      <td>1.740929</td>\n",
       "    </tr>\n",
       "    <tr>\n",
       "      <th>12</th>\n",
       "      <td>Austria</td>\n",
       "      <td>97965875.0</td>\n",
       "      <td>1678309.0</td>\n",
       "      <td>1.713157</td>\n",
       "    </tr>\n",
       "    <tr>\n",
       "      <th>93</th>\n",
       "      <td>Hong Kong</td>\n",
       "      <td>2655935.0</td>\n",
       "      <td>45325.0</td>\n",
       "      <td>1.706555</td>\n",
       "    </tr>\n",
       "  </tbody>\n",
       "</table>\n",
       "<p>100 rows × 4 columns</p>\n",
       "</div>"
      ],
      "text/plain": [
       "    Country/Region    Confirmed      Deaths  Mortality Rate (%)\n",
       "225          Yemen     962066.0    237613.0           24.698202\n",
       "123     MS Zaandam       3824.0       848.0           22.175732\n",
       "220        Vanuatu        406.0        39.0            9.605911\n",
       "137         Mexico  460463678.0  43005509.0            9.339609\n",
       "197          Sudan    7632455.0    488709.0            6.403038\n",
       "..             ...          ...         ...                 ...\n",
       "143        Morocco  104557135.0   1823724.0            1.744237\n",
       "35        Cameroon   11346589.0    197906.0            1.744189\n",
       "109          Kenya   27728648.0    482736.0            1.740929\n",
       "12         Austria   97965875.0   1678309.0            1.713157\n",
       "93       Hong Kong    2655935.0     45325.0            1.706555\n",
       "\n",
       "[100 rows x 4 columns]"
      ]
     },
     "execution_count": 81,
     "metadata": {},
     "output_type": "execute_result"
    }
   ],
   "source": [
    "# How does the mortality rate vary across different countries/regions\n",
    "country_data = a.groupby('Country/Region')[['Confirmed', 'Deaths']].sum().reset_index()\n",
    "country_data = country_data[country_data['Confirmed'] > 0]\n",
    "country_data['Mortality Rate (%)'] = (country_data['Deaths'] / country_data['Confirmed']) * 100\n",
    "country_data_sorted = country_data.sort_values(by='Mortality Rate (%)', ascending=False)\n",
    "country_data_sorted.head(100)"
   ]
  },
  {
   "cell_type": "code",
   "execution_count": 89,
   "id": "9ab3f6b0-0241-456f-8262-cfacca8e8136",
   "metadata": {},
   "outputs": [
    {
     "data": {
      "text/html": [
       "<div>\n",
       "<style scoped>\n",
       "    .dataframe tbody tr th:only-of-type {\n",
       "        vertical-align: middle;\n",
       "    }\n",
       "\n",
       "    .dataframe tbody tr th {\n",
       "        vertical-align: top;\n",
       "    }\n",
       "\n",
       "    .dataframe thead th {\n",
       "        text-align: right;\n",
       "    }\n",
       "</style>\n",
       "<table border=\"1\" class=\"dataframe\">\n",
       "  <thead>\n",
       "    <tr style=\"text-align: right;\">\n",
       "      <th></th>\n",
       "      <th>Country/Region</th>\n",
       "      <th>Confirmed</th>\n",
       "      <th>Recovered</th>\n",
       "      <th>Recovery Rate (%)</th>\n",
       "    </tr>\n",
       "  </thead>\n",
       "  <tbody>\n",
       "    <tr>\n",
       "      <th>219</th>\n",
       "      <td>Uzbekistan</td>\n",
       "      <td>22207571.0</td>\n",
       "      <td>21035683.0</td>\n",
       "      <td>94.723025</td>\n",
       "    </tr>\n",
       "    <tr>\n",
       "      <th>78</th>\n",
       "      <td>Ghana</td>\n",
       "      <td>20784664.0</td>\n",
       "      <td>19586296.0</td>\n",
       "      <td>94.234364</td>\n",
       "    </tr>\n",
       "    <tr>\n",
       "      <th>55</th>\n",
       "      <td>Diamond Princess</td>\n",
       "      <td>306872.0</td>\n",
       "      <td>288580.0</td>\n",
       "      <td>94.039209</td>\n",
       "    </tr>\n",
       "    <tr>\n",
       "      <th>138</th>\n",
       "      <td>Micronesia</td>\n",
       "      <td>129.0</td>\n",
       "      <td>121.0</td>\n",
       "      <td>93.798450</td>\n",
       "    </tr>\n",
       "    <tr>\n",
       "      <th>95</th>\n",
       "      <td>Iceland</td>\n",
       "      <td>1729527.0</td>\n",
       "      <td>1621682.0</td>\n",
       "      <td>93.764480</td>\n",
       "    </tr>\n",
       "    <tr>\n",
       "      <th>...</th>\n",
       "      <td>...</td>\n",
       "      <td>...</td>\n",
       "      <td>...</td>\n",
       "      <td>...</td>\n",
       "    </tr>\n",
       "    <tr>\n",
       "      <th>97</th>\n",
       "      <td>Indonesia</td>\n",
       "      <td>265186050.0</td>\n",
       "      <td>226416174.0</td>\n",
       "      <td>85.380122</td>\n",
       "    </tr>\n",
       "    <tr>\n",
       "      <th>151</th>\n",
       "      <td>Nigeria</td>\n",
       "      <td>33407947.0</td>\n",
       "      <td>28514090.0</td>\n",
       "      <td>85.351219</td>\n",
       "    </tr>\n",
       "    <tr>\n",
       "      <th>150</th>\n",
       "      <td>Niger</td>\n",
       "      <td>1047041.0</td>\n",
       "      <td>892393.0</td>\n",
       "      <td>85.229996</td>\n",
       "    </tr>\n",
       "    <tr>\n",
       "      <th>172</th>\n",
       "      <td>Russia</td>\n",
       "      <td>930548849.0</td>\n",
       "      <td>790705716.0</td>\n",
       "      <td>84.971973</td>\n",
       "    </tr>\n",
       "    <tr>\n",
       "      <th>165</th>\n",
       "      <td>Portugal</td>\n",
       "      <td>141962632.0</td>\n",
       "      <td>120619045.0</td>\n",
       "      <td>84.965348</td>\n",
       "    </tr>\n",
       "  </tbody>\n",
       "</table>\n",
       "<p>100 rows × 4 columns</p>\n",
       "</div>"
      ],
      "text/plain": [
       "       Country/Region    Confirmed    Recovered  Recovery Rate (%)\n",
       "219        Uzbekistan   22207571.0   21035683.0          94.723025\n",
       "78              Ghana   20784664.0   19586296.0          94.234364\n",
       "55   Diamond Princess     306872.0     288580.0          94.039209\n",
       "138        Micronesia        129.0        121.0          93.798450\n",
       "95            Iceland    1729527.0    1621682.0          93.764480\n",
       "..                ...          ...          ...                ...\n",
       "97          Indonesia  265186050.0  226416174.0          85.380122\n",
       "151           Nigeria   33407947.0   28514090.0          85.351219\n",
       "150             Niger    1047041.0     892393.0          85.229996\n",
       "172            Russia  930548849.0  790705716.0          84.971973\n",
       "165          Portugal  141962632.0  120619045.0          84.965348\n",
       "\n",
       "[100 rows x 4 columns]"
      ]
     },
     "execution_count": 89,
     "metadata": {},
     "output_type": "execute_result"
    }
   ],
   "source": [
    "# How does the recovery rate vary across different countries/regions\n",
    "country_data = a.groupby('Country/Region')[['Confirmed', 'Recovered']].sum().reset_index()\n",
    "country_data = country_data[country_data['Confirmed'] > 0]\n",
    "country_data['Recovery Rate (%)'] = (country_data['Recovered'] / country_data['Confirmed']) * 100\n",
    "country_data_sorted = country_data.sort_values(by='Recovery Rate (%)', ascending=False)\n",
    "country_data_sorted.head(100)"
   ]
  },
  {
   "cell_type": "code",
   "execution_count": 93,
   "id": "76fbd603-4fb2-4167-a7e7-d2803890fb34",
   "metadata": {},
   "outputs": [
    {
     "data": {
      "text/plain": [
       "<Axes: title={'center': 'New Confirmed Cases Over Time Globally'}, xlabel='ObservationDate', ylabel='Confirmed'>"
      ]
     },
     "execution_count": 93,
     "metadata": {},
     "output_type": "execute_result"
    },
    {
     "data": {
      "image/png": "[encoded data removed]",
      "text/plain": [
       "<Figure size 640x480 with 1 Axes>"
      ]
     },
     "metadata": {},
     "output_type": "display_data"
    }
   ],
   "source": [
    "# What is the trend of new confirmed cases over time globally\n",
    "a['ObservationDate'] = pd.to_datetime(a['ObservationDate'])\n",
    "df_grouped = a.groupby('ObservationDate')['Confirmed'].sum().reset_index()\n",
    "df_grouped.sort_values('ObservationDate')\n",
    "df_grouped.plot(x='ObservationDate', y='Confirmed', title='New Confirmed Cases Over Time Globally', xlabel='ObservationDate', ylabel='Confirmed')"
   ]
  },
  {
   "cell_type": "code",
   "execution_count": 95,
   "id": "d951eea6-bc06-4bd3-ad93-d0a0c732a47f",
   "metadata": {},
   "outputs": [
    {
     "data": {
      "text/html": [
       "<div>\n",
       "<style scoped>\n",
       "    .dataframe tbody tr th:only-of-type {\n",
       "        vertical-align: middle;\n",
       "    }\n",
       "\n",
       "    .dataframe tbody tr th {\n",
       "        vertical-align: top;\n",
       "    }\n",
       "\n",
       "    .dataframe thead th {\n",
       "        text-align: right;\n",
       "    }\n",
       "</style>\n",
       "<table border=\"1\" class=\"dataframe\">\n",
       "  <thead>\n",
       "    <tr style=\"text-align: right;\">\n",
       "      <th></th>\n",
       "      <th>Province/State</th>\n",
       "      <th>Confirmed</th>\n",
       "      <th>Deaths</th>\n",
       "      <th>Mortality Rate (%)</th>\n",
       "    </tr>\n",
       "  </thead>\n",
       "  <tbody>\n",
       "    <tr>\n",
       "      <th>668</th>\n",
       "      <td>Unknown</td>\n",
       "      <td>8022663.0</td>\n",
       "      <td>4258506.0</td>\n",
       "      <td>53.080953</td>\n",
       "    </tr>\n",
       "    <tr>\n",
       "      <th>568</th>\n",
       "      <td>Santa Rosa County, FL</td>\n",
       "      <td>5.0</td>\n",
       "      <td>2.0</td>\n",
       "      <td>40.000000</td>\n",
       "    </tr>\n",
       "    <tr>\n",
       "      <th>338</th>\n",
       "      <td>Lee County, FL</td>\n",
       "      <td>6.0</td>\n",
       "      <td>2.0</td>\n",
       "      <td>33.333333</td>\n",
       "    </tr>\n",
       "    <tr>\n",
       "      <th>213</th>\n",
       "      <td>Grant County, WA</td>\n",
       "      <td>5.0</td>\n",
       "      <td>1.0</td>\n",
       "      <td>20.000000</td>\n",
       "    </tr>\n",
       "    <tr>\n",
       "      <th>52</th>\n",
       "      <td>Baja California</td>\n",
       "      <td>10661120.0</td>\n",
       "      <td>1808573.0</td>\n",
       "      <td>16.964193</td>\n",
       "    </tr>\n",
       "    <tr>\n",
       "      <th>...</th>\n",
       "      <td>...</td>\n",
       "      <td>...</td>\n",
       "      <td>...</td>\n",
       "      <td>...</td>\n",
       "    </tr>\n",
       "    <tr>\n",
       "      <th>492</th>\n",
       "      <td>Perm Krai</td>\n",
       "      <td>9426150.0</td>\n",
       "      <td>341592.0</td>\n",
       "      <td>3.623876</td>\n",
       "    </tr>\n",
       "    <tr>\n",
       "      <th>601</th>\n",
       "      <td>Sormland</td>\n",
       "      <td>3171168.0</td>\n",
       "      <td>114559.0</td>\n",
       "      <td>3.612518</td>\n",
       "    </tr>\n",
       "    <tr>\n",
       "      <th>171</th>\n",
       "      <td>England</td>\n",
       "      <td>666227518.0</td>\n",
       "      <td>24042130.0</td>\n",
       "      <td>3.608697</td>\n",
       "    </tr>\n",
       "    <tr>\n",
       "      <th>95</th>\n",
       "      <td>Caqueta</td>\n",
       "      <td>4000046.0</td>\n",
       "      <td>144258.0</td>\n",
       "      <td>3.606409</td>\n",
       "    </tr>\n",
       "    <tr>\n",
       "      <th>287</th>\n",
       "      <td>Junin</td>\n",
       "      <td>10474345.0</td>\n",
       "      <td>372782.0</td>\n",
       "      <td>3.559001</td>\n",
       "    </tr>\n",
       "  </tbody>\n",
       "</table>\n",
       "<p>100 rows × 4 columns</p>\n",
       "</div>"
      ],
      "text/plain": [
       "            Province/State    Confirmed      Deaths  Mortality Rate (%)\n",
       "668                Unknown    8022663.0   4258506.0           53.080953\n",
       "568  Santa Rosa County, FL          5.0         2.0           40.000000\n",
       "338         Lee County, FL          6.0         2.0           33.333333\n",
       "213       Grant County, WA          5.0         1.0           20.000000\n",
       "52         Baja California   10661120.0   1808573.0           16.964193\n",
       "..                     ...          ...         ...                 ...\n",
       "492              Perm Krai    9426150.0    341592.0            3.623876\n",
       "601               Sormland    3171168.0    114559.0            3.612518\n",
       "171                England  666227518.0  24042130.0            3.608697\n",
       "95                 Caqueta    4000046.0    144258.0            3.606409\n",
       "287                  Junin   10474345.0    372782.0            3.559001\n",
       "\n",
       "[100 rows x 4 columns]"
      ]
     },
     "execution_count": 95,
     "metadata": {},
     "output_type": "execute_result"
    }
   ],
   "source": [
    "# How does the fatality rate vary across different provinces/states\n",
    "country_data = a.groupby('Province/State')[['Confirmed', 'Deaths']].sum().reset_index()\n",
    "country_data = country_data[country_data['Confirmed'] > 0]\n",
    "country_data['Mortality Rate (%)'] = (country_data['Deaths'] / country_data['Confirmed']) * 100\n",
    "country_data_sorted = country_data.sort_values(by='Mortality Rate (%)', ascending=False)\n",
    "country_data_sorted.head(100)"
   ]
  },
  {
   "cell_type": "code",
   "execution_count": 97,
   "id": "72a36ec9-9abf-40d7-9b1d-3430f4160aa0",
   "metadata": {},
   "outputs": [
    {
     "data": {
      "text/html": [
       "<div>\n",
       "<style scoped>\n",
       "    .dataframe tbody tr th:only-of-type {\n",
       "        vertical-align: middle;\n",
       "    }\n",
       "\n",
       "    .dataframe tbody tr th {\n",
       "        vertical-align: top;\n",
       "    }\n",
       "\n",
       "    .dataframe thead th {\n",
       "        text-align: right;\n",
       "    }\n",
       "</style>\n",
       "<table border=\"1\" class=\"dataframe\">\n",
       "  <thead>\n",
       "    <tr style=\"text-align: right;\">\n",
       "      <th></th>\n",
       "      <th>Province/State</th>\n",
       "      <th>Confirmed</th>\n",
       "      <th>Recovered</th>\n",
       "      <th>Recovery Rate (%)</th>\n",
       "    </tr>\n",
       "  </thead>\n",
       "  <tbody>\n",
       "    <tr>\n",
       "      <th>656</th>\n",
       "      <td>US</td>\n",
       "      <td>5.0</td>\n",
       "      <td>532.0</td>\n",
       "      <td>10640.000000</td>\n",
       "    </tr>\n",
       "    <tr>\n",
       "      <th>668</th>\n",
       "      <td>Unknown</td>\n",
       "      <td>8022663.0</td>\n",
       "      <td>619498477.0</td>\n",
       "      <td>7721.855910</td>\n",
       "    </tr>\n",
       "    <tr>\n",
       "      <th>527</th>\n",
       "      <td>Repatriated Travellers</td>\n",
       "      <td>2431.0</td>\n",
       "      <td>2431.0</td>\n",
       "      <td>100.000000</td>\n",
       "    </tr>\n",
       "    <tr>\n",
       "      <th>549</th>\n",
       "      <td>Saint Helena, Ascension and Tristan da Cunha</td>\n",
       "      <td>882.0</td>\n",
       "      <td>863.0</td>\n",
       "      <td>97.845805</td>\n",
       "    </tr>\n",
       "    <tr>\n",
       "      <th>494</th>\n",
       "      <td>Piaui</td>\n",
       "      <td>46545813.0</td>\n",
       "      <td>45137476.0</td>\n",
       "      <td>96.974299</td>\n",
       "    </tr>\n",
       "    <tr>\n",
       "      <th>...</th>\n",
       "      <td>...</td>\n",
       "      <td>...</td>\n",
       "      <td>...</td>\n",
       "      <td>...</td>\n",
       "    </tr>\n",
       "    <tr>\n",
       "      <th>81</th>\n",
       "      <td>Bryansk Oblast</td>\n",
       "      <td>7290010.0</td>\n",
       "      <td>6680312.0</td>\n",
       "      <td>91.636527</td>\n",
       "    </tr>\n",
       "    <tr>\n",
       "      <th>246</th>\n",
       "      <td>Hong Kong</td>\n",
       "      <td>2657986.0</td>\n",
       "      <td>2434024.0</td>\n",
       "      <td>91.573996</td>\n",
       "    </tr>\n",
       "    <tr>\n",
       "      <th>698</th>\n",
       "      <td>Voronezh Oblast</td>\n",
       "      <td>14490195.0</td>\n",
       "      <td>13267047.0</td>\n",
       "      <td>91.558789</td>\n",
       "    </tr>\n",
       "    <tr>\n",
       "      <th>178</th>\n",
       "      <td>Falkland Islands (Malvinas)</td>\n",
       "      <td>11512.0</td>\n",
       "      <td>10533.0</td>\n",
       "      <td>91.495830</td>\n",
       "    </tr>\n",
       "    <tr>\n",
       "      <th>194</th>\n",
       "      <td>Fujian</td>\n",
       "      <td>217053.0</td>\n",
       "      <td>198430.0</td>\n",
       "      <td>91.420068</td>\n",
       "    </tr>\n",
       "  </tbody>\n",
       "</table>\n",
       "<p>100 rows × 4 columns</p>\n",
       "</div>"
      ],
      "text/plain": [
       "                                   Province/State   Confirmed    Recovered  \\\n",
       "656                                            US         5.0        532.0   \n",
       "668                                       Unknown   8022663.0  619498477.0   \n",
       "527                        Repatriated Travellers      2431.0       2431.0   \n",
       "549  Saint Helena, Ascension and Tristan da Cunha       882.0        863.0   \n",
       "494                                         Piaui  46545813.0   45137476.0   \n",
       "..                                            ...         ...          ...   \n",
       "81                                 Bryansk Oblast   7290010.0    6680312.0   \n",
       "246                                     Hong Kong   2657986.0    2434024.0   \n",
       "698                               Voronezh Oblast  14490195.0   13267047.0   \n",
       "178                   Falkland Islands (Malvinas)     11512.0      10533.0   \n",
       "194                                        Fujian    217053.0     198430.0   \n",
       "\n",
       "     Recovery Rate (%)  \n",
       "656       10640.000000  \n",
       "668        7721.855910  \n",
       "527         100.000000  \n",
       "549          97.845805  \n",
       "494          96.974299  \n",
       "..                 ...  \n",
       "81           91.636527  \n",
       "246          91.573996  \n",
       "698          91.558789  \n",
       "178          91.495830  \n",
       "194          91.420068  \n",
       "\n",
       "[100 rows x 4 columns]"
      ]
     },
     "execution_count": 97,
     "metadata": {},
     "output_type": "execute_result"
    }
   ],
   "source": [
    "# How does the recovery rate vary across different provinces/states\n",
    "country_data = a.groupby('Province/State')[['Confirmed', 'Recovered']].sum().reset_index()\n",
    "country_data = country_data[country_data['Confirmed'] > 0]\n",
    "country_data['Recovery Rate (%)'] = (country_data['Recovered'] / country_data['Confirmed']) * 100\n",
    "country_data_sorted = country_data.sort_values(by='Recovery Rate (%)', ascending=False)\n",
    "country_data_sorted.head(100)"
   ]
  },
  {
   "cell_type": "code",
   "execution_count": 115,
   "id": "125f688b-e8d9-4efa-b1d8-062ae9a43f5f",
   "metadata": {},
   "outputs": [
    {
     "data": {
      "text/plain": [
       "Text(0, 0.5, 'Number of Recovered Cases')"
      ]
     },
     "execution_count": 115,
     "metadata": {},
     "output_type": "execute_result"
    },
    {
     "data": {
      "image/png": "[encoded data removed]",
      "text/plain": [
       "<Figure size 640x480 with 1 Axes>"
      ]
     },
     "metadata": {},
     "output_type": "display_data"
    }
   ],
   "source": [
    "# What is the trend of Recovered cases over time globally\n",
    "a['ObservationDate'] = pd.to_datetime(a['ObservationDate'])\n",
    "global_trend = a.groupby('ObservationDate')['Recovered'].sum().reset_index()\n",
    "plt.plot(global_trend['ObservationDate'], global_trend['Recovered'])\n",
    "plt.title('Trend of Recovered Cases Over Time Globally')\n",
    "plt.xlabel('Date', fontsize=10)\n",
    "plt.ylabel('Number of Recovered Cases', fontsize=10)"
   ]
  }
 ],
 "metadata": {
  "kernelspec": {
   "display_name": "Python 3 (ipykernel)",
   "language": "python",
   "name": "python3"
  },
  "language_info": {
   "codemirror_mode": {
    "name": "ipython",
    "version": 3
   },
   "file_extension": ".py",
   "mimetype": "text/x-python",
   "name": "python",
   "nbconvert_exporter": "python",
   "pygments_lexer": "ipython3",
   "version": "3.12.4"
  }
 },
 "nbformat": 4,
 "nbformat_minor": 5
}
